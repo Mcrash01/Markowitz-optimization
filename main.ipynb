{
 "cells": [
  {
   "cell_type": "code",
   "execution_count": 31,
   "metadata": {},
   "outputs": [],
   "source": [
    "# require \"pip install yfinance\"\n",
    "import yfinance as yf\n",
    "import pandas as pd\n",
    "import numpy as np\n",
    "from datetime import datetime\n",
    "from method.fixed_step_descent import descente_markowitz,descente2"
   ]
  },
  {
   "cell_type": "code",
   "execution_count": 32,
   "metadata": {},
   "outputs": [
    {
     "name": "stdout",
     "output_type": "stream",
     "text": [
      "[*********************100%%**********************]  5 of 5 completed\n"
     ]
    }
   ],
   "source": [
    "stock_symbols = ['AAPL', 'GOOGL', 'MSFT', 'AMZN', 'TSLA']\n",
    "\n",
    "start_date = '2022-01-01'\n",
    "\n",
    "end_date = datetime.now().strftime('%Y-%m-%d')\n",
    "\n",
    "stocks_data = yf.download(stock_symbols, start=start_date, end=end_date)['Adj Close']\n",
    "\n",
    "returns = stocks_data.pct_change()\n",
    "returns = returns.iloc[1:]"
   ]
  },
  {
   "cell_type": "code",
   "execution_count": 33,
   "metadata": {},
   "outputs": [
    {
     "name": "stdout",
     "output_type": "stream",
     "text": [
      "Stock Returns:\n",
      "                AAPL      AMZN     GOOGL      MSFT      TSLA\n",
      "Date                                                        \n",
      "2022-01-04 -0.012692 -0.016916 -0.004083 -0.017147 -0.041833\n",
      "2022-01-05 -0.026600 -0.018893 -0.045876 -0.038388 -0.053471\n",
      "2022-01-06 -0.016693 -0.006711 -0.000200 -0.007902 -0.021523\n",
      "2022-01-07  0.000988 -0.004288 -0.005303  0.000510 -0.035447\n",
      "2022-01-10  0.000116 -0.006570  0.012061  0.000732  0.030342\n",
      "...              ...       ...       ...       ...       ...\n",
      "2023-12-11 -0.012927 -0.010379 -0.012594 -0.007829 -0.016814\n",
      "2023-12-12  0.007920  0.010899 -0.005777  0.008295 -0.011387\n",
      "2023-12-13  0.016691  0.009222  0.000377 -0.000027  0.009620\n",
      "2023-12-14  0.000758 -0.009540 -0.004752 -0.022545  0.049145\n",
      "2023-12-15 -0.002726  0.017298  0.005002  0.013117  0.009759\n",
      "\n",
      "[491 rows x 5 columns]\n"
     ]
    }
   ],
   "source": [
    "print(\"Stock Returns:\")\n",
    "print(returns)"
   ]
  },
  {
   "cell_type": "code",
   "execution_count": 34,
   "metadata": {},
   "outputs": [
    {
     "name": "stdout",
     "output_type": "stream",
     "text": [
      "Covariance Matrix:\n",
      "           AAPL      AMZN     GOOGL      MSFT      TSLA\n",
      "AAPL   0.000341  0.000311  0.000289  0.000267  0.000407\n",
      "AMZN   0.000311  0.000730  0.000407  0.000364  0.000523\n",
      "GOOGL  0.000289  0.000407  0.000489  0.000316  0.000400\n",
      "MSFT   0.000267  0.000364  0.000316  0.000381  0.000353\n",
      "TSLA   0.000407  0.000523  0.000400  0.000353  0.001453\n"
     ]
    }
   ],
   "source": [
    "covariance_matrix = returns.cov()\n",
    "print(\"Covariance Matrix:\")\n",
    "print(covariance_matrix)"
   ]
  },
  {
   "cell_type": "code",
   "execution_count": 35,
   "metadata": {},
   "outputs": [
    {
     "name": "stdout",
     "output_type": "stream",
     "text": [
      "Mean Returns:\n",
      "AAPL     0.000360\n",
      "AMZN     0.000104\n",
      "GOOGL    0.000063\n",
      "MSFT     0.000435\n",
      "TSLA    -0.000199\n",
      "dtype: float64\n"
     ]
    }
   ],
   "source": [
    "mean_returns = returns.mean()\n",
    "print(\"Mean Returns:\")\n",
    "print(mean_returns)"
   ]
  },
  {
   "cell_type": "code",
   "execution_count": 36,
   "metadata": {},
   "outputs": [
    {
     "name": "stdout",
     "output_type": "stream",
     "text": [
      "\n",
      "Variance of Returns:\n",
      "AAPL     0.000341\n",
      "AMZN     0.000730\n",
      "GOOGL    0.000489\n",
      "MSFT     0.000381\n",
      "TSLA     0.001453\n",
      "dtype: float64\n"
     ]
    }
   ],
   "source": [
    "variance_returns = returns.var()\n",
    "print(\"\\nVariance of Returns:\")\n",
    "print(variance_returns)"
   ]
  },
  {
   "cell_type": "code",
   "execution_count": 40,
   "metadata": {},
   "outputs": [
    {
     "name": "stdout",
     "output_type": "stream",
     "text": [
      "initial portfolio risk :  0.021505979626867473\n",
      "initial portfolio weights :  [0.19058765 0.14685853 0.15496298 0.22780396 0.27978688]\n",
      "final portfolio risk with fixed step :  0.02079916040948402 after  10000  iterations\n",
      "final portfolio risk with backtracking :  0.02081173878844736 after  10000  iterations\n",
      "final weights of the portfolio with fixed step :  [0.19819201 0.190089   0.19158406 0.20515562 0.2149793 ]\n",
      "final weights of the portfolio with backtracking :  [0.19793261 0.18951809 0.19105297 0.2053556  0.21614072]\n"
     ]
    }
   ],
   "source": [
    "x = abs(np.random.rand(5))\n",
    "#w = w/sum(w)\n",
    "\n",
    "w = np.exp(x)/np.sum(np.exp(x))\n",
    "\n",
    "\n",
    "covariance_matrix = np.array(covariance_matrix)\n",
    "\n",
    "wt = np.transpose(w)\n",
    "\n",
    "m = np.matmul(np.matmul(wt,covariance_matrix),w)\n",
    "\n",
    "print(\"initial portfolio risk : \", np.sqrt(np.matmul(np.matmul(np.transpose(w),covariance_matrix),w)))\n",
    "print(\"initial portfolio weights : \", w)\n",
    "opti1 = descente_markowitz(x, covariance_matrix,0.000001, 0.001, max_iter=10000)\n",
    "opti2 = descente2(x, covariance_matrix,0.000001, max_iter=10000)\n",
    "\n",
    "w1 = np.exp(opti1[0])/np.sum(np.exp(opti1[0]))\n",
    "w2 = np.exp(opti2[0])/np.sum(np.exp(opti2[0]))\n",
    "\n",
    "\n",
    "\n",
    "print(\"final portfolio risk with fixed step : \", np.sqrt(np.matmul(np.matmul(np.transpose(w1),covariance_matrix),w1)), \"after \", opti1[1], \" iterations\")\n",
    "print(\"final portfolio risk with backtracking : \", np.sqrt(np.matmul(np.matmul(np.transpose(w2),covariance_matrix),w2)), \"after \", opti2[1], \" iterations\")\n",
    "\n",
    "print(\"final weights of the portfolio with fixed step : \", w1)\n",
    "print(\"final weights of the portfolio with backtracking : \", w2)"
   ]
  }
 ],
 "metadata": {
  "kernelspec": {
   "display_name": "base",
   "language": "python",
   "name": "python3"
  },
  "language_info": {
   "codemirror_mode": {
    "name": "ipython",
    "version": 3
   },
   "file_extension": ".py",
   "mimetype": "text/x-python",
   "name": "python",
   "nbconvert_exporter": "python",
   "pygments_lexer": "ipython3",
   "version": "3.11.2"
  }
 },
 "nbformat": 4,
 "nbformat_minor": 2
}
