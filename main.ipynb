{
 "cells": [
  {
   "cell_type": "code",
   "execution_count": 1,
   "metadata": {},
   "outputs": [],
   "source": [
    "# require \"pip install yfinance\"\n",
    "import yfinance as yf\n",
    "import pandas as pd\n",
    "import numpy as np\n",
    "from datetime import datetime\n",
    "from method.fixed_step_descent import descente_markowitz"
   ]
  },
  {
   "cell_type": "code",
   "execution_count": 2,
   "metadata": {},
   "outputs": [
    {
     "name": "stdout",
     "output_type": "stream",
     "text": [
      "[*********************100%%**********************]  2 of 2 completed\n"
     ]
    }
   ],
   "source": [
    "stock_symbols = ['AAPL', 'GOOGL'] #, 'MSFT', 'AMZN', 'TSLA']\n",
    "\n",
    "start_date = '2022-01-01'\n",
    "\n",
    "end_date = datetime.now().strftime('%Y-%m-%d')\n",
    "\n",
    "stocks_data = yf.download(stock_symbols, start=start_date, end=end_date)['Adj Close']\n",
    "\n",
    "returns = stocks_data.pct_change()\n",
    "returns = returns.iloc[1:]"
   ]
  },
  {
   "cell_type": "code",
   "execution_count": 3,
   "metadata": {},
   "outputs": [
    {
     "name": "stdout",
     "output_type": "stream",
     "text": [
      "Stock Returns:\n",
      "                AAPL     GOOGL\n",
      "Date                          \n",
      "2022-01-04 -0.012692 -0.004083\n",
      "2022-01-05 -0.026600 -0.045876\n",
      "2022-01-06 -0.016693 -0.000200\n",
      "2022-01-07  0.000988 -0.005303\n",
      "2022-01-10  0.000116  0.012061\n",
      "...              ...       ...\n",
      "2023-11-28  0.003214  0.005791\n",
      "2023-11-29 -0.005410 -0.016108\n",
      "2023-11-30  0.003063 -0.018224\n",
      "2023-12-01  0.006791 -0.005055\n",
      "2023-12-04 -0.009465 -0.019642\n",
      "\n",
      "[482 rows x 2 columns]\n"
     ]
    }
   ],
   "source": [
    "print(\"Stock Returns:\")\n",
    "print(returns)"
   ]
  },
  {
   "cell_type": "code",
   "execution_count": 4,
   "metadata": {},
   "outputs": [
    {
     "name": "stdout",
     "output_type": "stream",
     "text": [
      "Covariance Matrix:\n",
      "           AAPL     GOOGL\n",
      "AAPL   0.000345  0.000293\n",
      "GOOGL  0.000293  0.000491\n"
     ]
    }
   ],
   "source": [
    "covariance_matrix = returns.cov()\n",
    "print(\"Covariance Matrix:\")\n",
    "print(covariance_matrix)"
   ]
  },
  {
   "cell_type": "code",
   "execution_count": 5,
   "metadata": {},
   "outputs": [
    {
     "name": "stdout",
     "output_type": "stream",
     "text": [
      "Mean Returns:\n",
      "AAPL     0.000278\n",
      "GOOGL    0.000007\n",
      "dtype: float64\n"
     ]
    }
   ],
   "source": [
    "mean_returns = returns.mean()\n",
    "print(\"Mean Returns:\")\n",
    "print(mean_returns)"
   ]
  },
  {
   "cell_type": "code",
   "execution_count": 6,
   "metadata": {},
   "outputs": [
    {
     "name": "stdout",
     "output_type": "stream",
     "text": [
      "\n",
      "Variance of Returns:\n",
      "AAPL     0.000345\n",
      "GOOGL    0.000491\n",
      "dtype: float64\n"
     ]
    }
   ],
   "source": [
    "variance_returns = returns.var()\n",
    "print(\"\\nVariance of Returns:\")\n",
    "print(variance_returns)"
   ]
  },
  {
   "cell_type": "code",
   "execution_count": 7,
   "metadata": {},
   "outputs": [
    {
     "name": "stdout",
     "output_type": "stream",
     "text": [
      "[0.99416691 0.95509046] 1e-07 0.001\n"
     ]
    },
    {
     "data": {
      "text/plain": [
       "(array([ 0.13572753, -0.02143105]), 2095898)"
      ]
     },
     "execution_count": 7,
     "metadata": {},
     "output_type": "execute_result"
    }
   ],
   "source": [
    "w = np.random.rand(2)\n",
    "\n",
    "covariance_matrix = np.array(covariance_matrix)\n",
    "\n",
    "wt = np.transpose(w)\n",
    "\n",
    "m = np.matmul(np.matmul(wt,covariance_matrix),w)\n",
    "\n",
    "descente_markowitz(w, covariance_matrix,0.01, 0.001)"
   ]
  }
 ],
 "metadata": {
  "kernelspec": {
   "display_name": "base",
   "language": "python",
   "name": "python3"
  },
  "language_info": {
   "codemirror_mode": {
    "name": "ipython",
    "version": 3
   },
   "file_extension": ".py",
   "mimetype": "text/x-python",
   "name": "python",
   "nbconvert_exporter": "python",
   "pygments_lexer": "ipython3",
   "version": "3.10.13"
  }
 },
 "nbformat": 4,
 "nbformat_minor": 2
}
