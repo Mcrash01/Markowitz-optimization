{
 "cells": [
  {
   "cell_type": "code",
   "execution_count": 1,
   "metadata": {},
   "outputs": [],
   "source": [
    "# require \"pip install yfinance\"\n",
    "import yfinance as yf\n",
    "import pandas as pd\n",
    "import numpy as np\n",
    "from datetime import datetime\n",
    "from method.fixed_step_descent import descente_markowitz,descente2"
   ]
  },
  {
   "cell_type": "code",
   "execution_count": 2,
   "metadata": {},
   "outputs": [
    {
     "name": "stdout",
     "output_type": "stream",
     "text": [
      "[*********************100%%**********************]  5 of 5 completed\n"
     ]
    }
   ],
   "source": [
    "stock_symbols = ['AAPL', 'GOOGL', 'MSFT', 'AMZN', 'TSLA']\n",
    "\n",
    "start_date = '2022-01-01'\n",
    "\n",
    "end_date = datetime.now().strftime('%Y-%m-%d')\n",
    "\n",
    "stocks_data = yf.download(stock_symbols, start=start_date, end=end_date)['Adj Close']\n",
    "\n",
    "returns = stocks_data.pct_change()\n",
    "returns = returns.iloc[1:]"
   ]
  },
  {
   "cell_type": "code",
   "execution_count": 3,
   "metadata": {},
   "outputs": [
    {
     "name": "stdout",
     "output_type": "stream",
     "text": [
      "Stock Returns:\n",
      "                AAPL      AMZN     GOOGL      MSFT      TSLA\n",
      "Date                                                        \n",
      "2022-01-04 -0.012692 -0.016916 -0.004083 -0.017147 -0.041833\n",
      "2022-01-05 -0.026600 -0.018893 -0.045876 -0.038388 -0.053471\n",
      "2022-01-06 -0.016693 -0.006711 -0.000200 -0.007902 -0.021523\n",
      "2022-01-07  0.000988 -0.004288 -0.005303  0.000510 -0.035447\n",
      "2022-01-10  0.000116 -0.006570  0.012061  0.000732  0.030342\n",
      "...              ...       ...       ...       ...       ...\n",
      "2023-11-30  0.003063 -0.001572 -0.018224  0.000158 -0.016630\n",
      "2023-12-01  0.006791  0.006434 -0.005055 -0.011612 -0.005207\n",
      "2023-12-04 -0.009465 -0.014895 -0.019642 -0.014339 -0.013608\n",
      "2023-12-05  0.021063  0.014085  0.013305  0.009156  0.013329\n",
      "2023-12-06 -0.005687 -0.016068 -0.007405 -0.009986  0.002723\n",
      "\n",
      "[484 rows x 5 columns]\n"
     ]
    }
   ],
   "source": [
    "print(\"Stock Returns:\")\n",
    "print(returns)"
   ]
  },
  {
   "cell_type": "code",
   "execution_count": 4,
   "metadata": {},
   "outputs": [
    {
     "name": "stdout",
     "output_type": "stream",
     "text": [
      "Covariance Matrix:\n",
      "           AAPL      AMZN     GOOGL      MSFT      TSLA\n",
      "AAPL   0.000345  0.000315  0.000293  0.000271  0.000412\n",
      "AMZN   0.000315  0.000739  0.000411  0.000368  0.000531\n",
      "GOOGL  0.000293  0.000411  0.000490  0.000319  0.000404\n",
      "MSFT   0.000271  0.000368  0.000319  0.000385  0.000360\n",
      "TSLA   0.000412  0.000531  0.000404  0.000360  0.001468\n"
     ]
    }
   ],
   "source": [
    "covariance_matrix = returns.cov()\n",
    "print(\"Covariance Matrix:\")\n",
    "print(covariance_matrix)"
   ]
  },
  {
   "cell_type": "code",
   "execution_count": 5,
   "metadata": {},
   "outputs": [
    {
     "name": "stdout",
     "output_type": "stream",
     "text": [
      "Mean Returns:\n",
      "AAPL     0.000309\n",
      "AMZN     0.000028\n",
      "GOOGL    0.000020\n",
      "MSFT     0.000429\n",
      "TSLA    -0.000323\n",
      "dtype: float64\n"
     ]
    }
   ],
   "source": [
    "mean_returns = returns.mean()\n",
    "print(\"Mean Returns:\")\n",
    "print(mean_returns)"
   ]
  },
  {
   "cell_type": "code",
   "execution_count": 6,
   "metadata": {},
   "outputs": [
    {
     "name": "stdout",
     "output_type": "stream",
     "text": [
      "\n",
      "Variance of Returns:\n",
      "AAPL     0.000345\n",
      "AMZN     0.000739\n",
      "GOOGL    0.000490\n",
      "MSFT     0.000385\n",
      "TSLA     0.001468\n",
      "dtype: float64\n"
     ]
    }
   ],
   "source": [
    "variance_returns = returns.var()\n",
    "print(\"\\nVariance of Returns:\")\n",
    "print(variance_returns)"
   ]
  },
  {
   "cell_type": "code",
   "execution_count": 7,
   "metadata": {},
   "outputs": [
    {
     "name": "stdout",
     "output_type": "stream",
     "text": [
      "[7.19586498e-01 1.84156997e-01 2.13520353e-13 1.27837068e-08\n",
      " 9.62564932e-02] 0.0001219738839571998 451517\n",
      "[9.98503385e-01 1.46056562e-07 5.85375756e-04 5.41835008e-04\n",
      " 3.69258456e-04] 1.571093708459378e-10 9690\n"
     ]
    }
   ],
   "source": [
    "w = abs(np.random.rand(5))\n",
    "\n",
    "covariance_matrix = np.array(covariance_matrix)\n",
    "\n",
    "wt = np.transpose(w)\n",
    "\n",
    "m = np.matmul(np.matmul(wt,covariance_matrix),w)\n",
    "\n",
    "opti = descente_markowitz(w, covariance_matrix,0.000001, 0.001)\n",
    "opti2 = descente2(w, covariance_matrix,0.000001)\n",
    "\n",
    "print(opti[0],opti[2],opti[1])\n",
    "print(opti2[0],opti2[2],opti2[1])\n",
    "\n"
   ]
  }
 ],
 "metadata": {
  "kernelspec": {
   "display_name": "base",
   "language": "python",
   "name": "python3"
  },
  "language_info": {
   "codemirror_mode": {
    "name": "ipython",
    "version": 3
   },
   "file_extension": ".py",
   "mimetype": "text/x-python",
   "name": "python",
   "nbconvert_exporter": "python",
   "pygments_lexer": "ipython3",
   "version": "3.10.13"
  }
 },
 "nbformat": 4,
 "nbformat_minor": 2
}
